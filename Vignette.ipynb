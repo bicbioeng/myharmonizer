{
 "cells": [
  {
   "cell_type": "markdown",
   "id": "aca61476-473d-47af-9d04-0b8b6746a2e7",
   "metadata": {},
   "source": [
    "# Vignette for the myharmonizer package\n",
    "\n",
    "The myharmonizer python package is intended to accomplish four main purposes:\n",
    "\n",
    "1) Transform new datasets within the domain of a myHarmonizer object to the same data representation as the harmonized knowledge base.\n",
    "2) "
   ]
  }
 ],
 "metadata": {
  "kernelspec": {
   "display_name": "Python 3 (ipykernel)",
   "language": "python",
   "name": "python3"
  },
  "language_info": {
   "codemirror_mode": {
    "name": "ipython",
    "version": 3
   },
   "file_extension": ".py",
   "mimetype": "text/x-python",
   "name": "python",
   "nbconvert_exporter": "python",
   "pygments_lexer": "ipython3",
   "version": "3.10.5"
  }
 },
 "nbformat": 4,
 "nbformat_minor": 5
}
